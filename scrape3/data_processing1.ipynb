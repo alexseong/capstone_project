{
 "cells": [
  {
   "cell_type": "code",
   "execution_count": 13,
   "metadata": {
    "collapsed": false
   },
   "outputs": [],
   "source": [
    "import pandas as pd\n",
    "import numpy as np\n",
    "import datetime\n",
    "from data_processing import read_file, remove_features, extract_data_features, get_interval, get_subscriptn_rate, get_dayofweek, cat_name, dummify_catnames, get_week_number\n",
    "\n",
    "\n",
    "import matplotlib.pyplot as plt\n",
    "%matplotlib inline"
   ]
  },
  {
   "cell_type": "code",
   "execution_count": 8,
   "metadata": {
    "collapsed": false
   },
   "outputs": [],
   "source": [
    "df1 = read_file('../data/full_data.json')"
   ]
  },
  {
   "cell_type": "code",
   "execution_count": 53,
   "metadata": {
    "collapsed": false
   },
   "outputs": [],
   "source": [
    "df = remove_features(df1)\n",
    "df = extract_data_features(df)\n",
    "df = get_interval(df)\n",
    "df = get_subscriptn_rate(df)\n",
    "df = get_dayofweek(df)\n"
   ]
  },
  {
   "cell_type": "code",
   "execution_count": 54,
   "metadata": {
    "collapsed": true
   },
   "outputs": [],
   "source": [
    "df = cat_name(df)"
   ]
  },
  {
   "cell_type": "code",
   "execution_count": 55,
   "metadata": {
    "collapsed": true
   },
   "outputs": [],
   "source": [
    "df = dummify_catnames('cat_name', df)\n",
    "df = get_week_number(df)"
   ]
  },
  {
   "cell_type": "code",
   "execution_count": 72,
   "metadata": {
    "collapsed": true
   },
   "outputs": [],
   "source": [
    "def get_outcome(df):\n",
    "    df['outcome'] = df.status == 'successful'\n",
    "    df = df.drop('status', axis=1)\n",
    "    return df"
   ]
  },
  {
   "cell_type": "code",
   "execution_count": 71,
   "metadata": {
    "collapsed": false
   },
   "outputs": [],
   "source": [
    "xdf = df[['created_at','status','project_id',\n",
    " 'creator_id','goal','pledged','spotlight',\n",
    " 'staff_pick', 'launched_at','deadline','usd_pledged',\n",
    " 'backers_count','static_usd_rate','state_changed_at','disable_communication',\n",
    " 'days_to_launch','proj_live_days','subscription_rate','oversubscribed',\n",
    " 'launched_dow','deadline_dow','cat_art','cat_comics',\n",
    " 'cat_crafts','cat_dance', 'cat_design','cat_fashion',\n",
    " 'cat_film & video','cat_food','cat_games',\n",
    " 'cat_journalism','cat_music','cat_photography','cat_publishing',\n",
    " 'cat_technology','cat_theater', 'week_num']]"
   ]
  },
  {
   "cell_type": "code",
   "execution_count": 41,
   "metadata": {
    "collapsed": false
   },
   "outputs": [
    {
     "name": "stderr",
     "output_type": "stream",
     "text": [
      "/Users/lizsia/anaconda/lib/python2.7/site-packages/sklearn/cross_validation.py:44: DeprecationWarning: This module was deprecated in version 0.18 in favor of the model_selection module into which all the refactored classes and functions are moved. Also note that the interface of the new CV iterators are different from that of this module. This module will be removed in 0.20.\n",
      "  \"This module will be removed in 0.20.\", DeprecationWarning)\n"
     ]
    }
   ],
   "source": [
    "import time\n",
    "from sklearn.cross_validation import train_test_split, cross_val_score\n",
    "from sklearn.ensemble import RandomForestClassifier\n",
    "from sklearn.linear_model import LogisticRegression\n",
    "from sklearn.cross_validation import KFold\n",
    "\n",
    "\n"
   ]
  },
  {
   "cell_type": "code",
   "execution_count": null,
   "metadata": {
    "collapsed": true
   },
   "outputs": [],
   "source": [
    "    kf = KFold(m, n_folds = num_folds)\n",
    "    error = np.empty(num_folds)\n",
    "    logreg = LogisticRegression()\n",
    "    for train, test in kf:\n",
    "        logreg.fit(features[train], target[train])\n",
    "        pred = logreg.predict(features[test])\n",
    "        error[index] = rmse(pred, target[test])\n",
    "        index += 1"
   ]
  },
  {
   "cell_type": "code",
   "execution_count": 75,
   "metadata": {
    "collapsed": true
   },
   "outputs": [],
   "source": [
    "\n",
    "def split_data(df, test_size=0.3):\n",
    "    '''\n",
    "    Split data into training and testing sets. \n",
    "    '''\n",
    "    y = df.pop('outcome').values\n",
    "    X = df.values\n",
    "\n",
    "    X_train, X_test, y_train, y_test = train_test_split(X, y, test_size=test_size)\n",
    "\n",
    "    return X_train, X_test, y_train, y_test"
   ]
  },
  {
   "cell_type": "code",
   "execution_count": 76,
   "metadata": {
    "collapsed": false
   },
   "outputs": [],
   "source": [
    "X_train, X_test, y_train, y_test = split_data(xdf)"
   ]
  },
  {
   "cell_type": "code",
   "execution_count": 83,
   "metadata": {
    "collapsed": false
   },
   "outputs": [],
   "source": [
    "def train_model(clf, xt, yt):\n",
    "    '''\n",
    "    Trains model on training set.\n",
    "    '''\n",
    "    t0 = time.time()\n",
    "    model = clf()\n",
    "    t1 = time.time()\n",
    "    print 'Modeling complete. Time taken: {}'.format(t1-t0)\n",
    "\n",
    "    return model"
   ]
  },
  {
   "cell_type": "code",
   "execution_count": null,
   "metadata": {
    "collapsed": true
   },
   "outputs": [],
   "source": []
  },
  {
   "cell_type": "markdown",
   "metadata": {},
   "source": [
    "# work in progress"
   ]
  },
  {
   "cell_type": "code",
   "execution_count": 332,
   "metadata": {
    "collapsed": false
   },
   "outputs": [],
   "source": [
    "#NOT DONE. exploring how the recency of successful campaigns affect likelihood of success\n",
    "weekly =  df.groupby(['status','week_num']).size()\n",
    "# len(df.id.unique()) # 6765\n",
    "# weekly_success = weekly['success']\n",
    "\n",
    "b = weekly.unstack(level = 0)\n",
    "weekly_success = b.successful\n",
    "# weekly_success\n",
    "# weekly_success_diff = weekly_success.insert(0,111)\n",
    "\n"
   ]
  },
  {
   "cell_type": "code",
   "execution_count": 362,
   "metadata": {
    "collapsed": false
   },
   "outputs": [
    {
     "data": {
      "text/html": [
       "<div>\n",
       "<table border=\"1\" class=\"dataframe\">\n",
       "  <thead>\n",
       "    <tr style=\"text-align: right;\">\n",
       "      <th></th>\n",
       "      <th>state</th>\n",
       "      <th>status</th>\n",
       "      <th>currency</th>\n",
       "      <th>goal</th>\n",
       "      <th>backers_count</th>\n",
       "      <th>cat_name</th>\n",
       "      <th>name</th>\n",
       "      <th>loc_type</th>\n",
       "      <th>country</th>\n",
       "      <th>subscription_rate</th>\n",
       "    </tr>\n",
       "  </thead>\n",
       "  <tbody>\n",
       "    <tr>\n",
       "      <th>37693</th>\n",
       "      <td>Andalusia</td>\n",
       "      <td>successful</td>\n",
       "      <td>USD</td>\n",
       "      <td>13000</td>\n",
       "      <td>117</td>\n",
       "      <td>Tabletop Games</td>\n",
       "      <td>Alternative Civil War: 1861 - A Blackpowder &amp; ...</td>\n",
       "      <td>Town</td>\n",
       "      <td>ES</td>\n",
       "      <td>1.0788</td>\n",
       "    </tr>\n",
       "    <tr>\n",
       "      <th>40978</th>\n",
       "      <td>Andalusia</td>\n",
       "      <td>successful</td>\n",
       "      <td>USD</td>\n",
       "      <td>45000</td>\n",
       "      <td>1752</td>\n",
       "      <td>Video Games</td>\n",
       "      <td>Crossing Souls: An Adventure Between Life and ...</td>\n",
       "      <td>Town</td>\n",
       "      <td>ES</td>\n",
       "      <td>1.1552</td>\n",
       "    </tr>\n",
       "    <tr>\n",
       "      <th>41063</th>\n",
       "      <td>Andalusia</td>\n",
       "      <td>successful</td>\n",
       "      <td>USD</td>\n",
       "      <td>8000</td>\n",
       "      <td>390</td>\n",
       "      <td>Video Games</td>\n",
       "      <td>A Hole New World</td>\n",
       "      <td>Town</td>\n",
       "      <td>ES</td>\n",
       "      <td>1.2289</td>\n",
       "    </tr>\n",
       "    <tr>\n",
       "      <th>42016</th>\n",
       "      <td>Andalusia</td>\n",
       "      <td>failed</td>\n",
       "      <td>USD</td>\n",
       "      <td>35000</td>\n",
       "      <td>197</td>\n",
       "      <td>Video Games</td>\n",
       "      <td>The Intergalactic Trashman</td>\n",
       "      <td>Town</td>\n",
       "      <td>ES</td>\n",
       "      <td>0.1739</td>\n",
       "    </tr>\n",
       "    <tr>\n",
       "      <th>54813</th>\n",
       "      <td>Andalusia</td>\n",
       "      <td>successful</td>\n",
       "      <td>USD</td>\n",
       "      <td>5000</td>\n",
       "      <td>38</td>\n",
       "      <td>World Music</td>\n",
       "      <td>HERE NOW WORLD MUSIC PROJECT, 1st Edition GRAN...</td>\n",
       "      <td>Town</td>\n",
       "      <td>ES</td>\n",
       "      <td>1.0124</td>\n",
       "    </tr>\n",
       "    <tr>\n",
       "      <th>57737</th>\n",
       "      <td>Andalusia</td>\n",
       "      <td>failed</td>\n",
       "      <td>USD</td>\n",
       "      <td>3600</td>\n",
       "      <td>14</td>\n",
       "      <td>Places</td>\n",
       "      <td>The Study of Spanish Culture in Spain</td>\n",
       "      <td>Town</td>\n",
       "      <td>ES</td>\n",
       "      <td>0.1303</td>\n",
       "    </tr>\n",
       "  </tbody>\n",
       "</table>\n",
       "</div>"
      ],
      "text/plain": [
       "           state      status currency   goal  backers_count        cat_name  \\\n",
       "37693  Andalusia  successful      USD  13000            117  Tabletop Games   \n",
       "40978  Andalusia  successful      USD  45000           1752     Video Games   \n",
       "41063  Andalusia  successful      USD   8000            390     Video Games   \n",
       "42016  Andalusia      failed      USD  35000            197     Video Games   \n",
       "54813  Andalusia  successful      USD   5000             38     World Music   \n",
       "57737  Andalusia      failed      USD   3600             14          Places   \n",
       "\n",
       "                                                    name loc_type country  \\\n",
       "37693  Alternative Civil War: 1861 - A Blackpowder & ...     Town      ES   \n",
       "40978  Crossing Souls: An Adventure Between Life and ...     Town      ES   \n",
       "41063                                   A Hole New World     Town      ES   \n",
       "42016                         The Intergalactic Trashman     Town      ES   \n",
       "54813  HERE NOW WORLD MUSIC PROJECT, 1st Edition GRAN...     Town      ES   \n",
       "57737              The Study of Spanish Culture in Spain     Town      ES   \n",
       "\n",
       "       subscription_rate  \n",
       "37693             1.0788  \n",
       "40978             1.1552  \n",
       "41063             1.2289  \n",
       "42016             0.1739  \n",
       "54813             1.0124  \n",
       "57737             0.1303  "
      ]
     },
     "execution_count": 362,
     "metadata": {},
     "output_type": "execute_result"
    }
   ],
   "source": [
    "# non US countries\n",
    "# andalusia = df[df.state == 'Andalusia'][['state', 'status', 'currency','goal','backers_count', 'cat_name', 'name','loc_type', 'country','subscription_rate' ]]\n",
    "\n",
    "# df[df.country != 'US']['country']\n",
    "# andalusia"
   ]
  },
  {
   "cell_type": "code",
   "execution_count": 354,
   "metadata": {
    "collapsed": false
   },
   "outputs": [],
   "source": [
    "a =  df.groupby(['status','state']).size()\n",
    "b = a.unstack(level = 0)\n",
    "c = df.groupby('state').size()\n"
   ]
  },
  {
   "cell_type": "code",
   "execution_count": 328,
   "metadata": {
    "collapsed": false
   },
   "outputs": [],
   "source": [
    "def plot_weeknum(df):\n",
    "\n",
    "    deadlinef = df.groupby(['status', 'week_num']).size()['failed']\n",
    "    deadlines = df.groupby(['status', 'week_num']).size()['successful']\n",
    "\n",
    "\n",
    "    x = np.arange(len(deadlinef))\n",
    "#     y = np.arange(len(deadlines))\n",
    "\n",
    "    plt.plot(x, deadlinef)\n",
    "#     plt.plot(y, deadlines)\n",
    "    plt.show()\n",
    "    \n",
    "    \n",
    "    \n"
   ]
  },
  {
   "cell_type": "code",
   "execution_count": 329,
   "metadata": {
    "collapsed": false
   },
   "outputs": [
    {
     "data": {
      "image/png": "[encoded data removed]",
      "text/plain": [
       "<matplotlib.figure.Figure at 0x17f8a7e90>"
      ]
     },
     "metadata": {},
     "output_type": "display_data"
    }
   ],
   "source": [
    "plot_weeknum(df)"
   ]
  },
  {
   "cell_type": "code",
   "execution_count": 303,
   "metadata": {
    "collapsed": false
   },
   "outputs": [
    {
     "data": {
      "image/png": "[encoded data removed]",
      "text/plain": [
       "<matplotlib.figure.Figure at 0x13b4aa550>"
      ]
     },
     "metadata": {},
     "output_type": "display_data"
    }
   ],
   "source": [
    "plot_weeknum(df)"
   ]
  },
  {
   "cell_type": "code",
   "execution_count": 151,
   "metadata": {
    "collapsed": true
   },
   "outputs": [],
   "source": [
    "# compare dow deadline\n",
    "def plot_launchdow(df):\n",
    "\n",
    "    deadlinef = df.groupby(['status','launched_dow']).size()['failed']\n",
    "    deadlines = df.groupby(['status', 'launched_dow']).size()['successful']\n",
    "\n",
    "\n",
    "    x = np.arange(7)\n",
    "    plt.gca().set_color_cycle(['red', 'green'])\n",
    "\n",
    "    plt.plot(x, deadlinef)\n",
    "    plt.plot(x, deadlines)\n",
    "    plt.show()"
   ]
  },
  {
   "cell_type": "code",
   "execution_count": 152,
   "metadata": {
    "collapsed": false
   },
   "outputs": [
    {
     "data": {
      "image/png": "[encoded data removed]",
      "text/plain": [
       "<matplotlib.figure.Figure at 0x17fef5410>"
      ]
     },
     "metadata": {},
     "output_type": "display_data"
    }
   ],
   "source": [
    "plot_launchdow(df)"
   ]
  },
  {
   "cell_type": "code",
   "execution_count": 104,
   "metadata": {
    "collapsed": false
   },
   "outputs": [
    {
     "data": {
      "image/png": "[encoded data removed]",
      "text/plain": [
       "<matplotlib.figure.Figure at 0x17fe65190>"
      ]
     },
     "metadata": {},
     "output_type": "display_data"
    }
   ],
   "source": [
    "# compare dow deadline\n",
    "def plot_deadlinedow(df):\n",
    "\n",
    "    deadlinef = df.groupby(['highlvl_cat','status', 'deadline_dow']).size()['failed']\n",
    "    deadlines = df.groupby(['highlvl_cat','status', 'deadline_dow']).size()['successful']\n",
    "\n",
    "\n",
    "    x = np.arange(7)\n",
    "    plt.gca().set_color_cycle(['red', 'green'])\n",
    "\n",
    "    plt.plot(x, deadlinef)\n",
    "    plt.plot(x, deadlines)\n",
    "    plt.show()"
   ]
  },
  {
   "cell_type": "code",
   "execution_count": 149,
   "metadata": {
    "collapsed": false
   },
   "outputs": [
    {
     "data": {
      "text/html": [
       "<div>\n",
       "<table border=\"1\" class=\"dataframe\">\n",
       "  <thead>\n",
       "    <tr style=\"text-align: right;\">\n",
       "      <th></th>\n",
       "      <th>highlvl_cat</th>\n",
       "      <th>art</th>\n",
       "      <th>comics</th>\n",
       "      <th>crafts</th>\n",
       "      <th>dance</th>\n",
       "      <th>design</th>\n",
       "      <th>fashion</th>\n",
       "      <th>film &amp; video</th>\n",
       "      <th>food</th>\n",
       "      <th>games</th>\n",
       "      <th>journalism</th>\n",
       "      <th>music</th>\n",
       "      <th>photography</th>\n",
       "      <th>publishing</th>\n",
       "      <th>technology</th>\n",
       "      <th>theater</th>\n",
       "    </tr>\n",
       "    <tr>\n",
       "      <th>status</th>\n",
       "      <th>deadline_dow</th>\n",
       "      <th></th>\n",
       "      <th></th>\n",
       "      <th></th>\n",
       "      <th></th>\n",
       "      <th></th>\n",
       "      <th></th>\n",
       "      <th></th>\n",
       "      <th></th>\n",
       "      <th></th>\n",
       "      <th></th>\n",
       "      <th></th>\n",
       "      <th></th>\n",
       "      <th></th>\n",
       "      <th></th>\n",
       "      <th></th>\n",
       "    </tr>\n",
       "  </thead>\n",
       "  <tbody>\n",
       "    <tr>\n",
       "      <th rowspan=\"7\" valign=\"top\">failed</th>\n",
       "      <th>0</th>\n",
       "      <td>495</td>\n",
       "      <td>93</td>\n",
       "      <td>115</td>\n",
       "      <td>29</td>\n",
       "      <td>93</td>\n",
       "      <td>402</td>\n",
       "      <td>664</td>\n",
       "      <td>484</td>\n",
       "      <td>250</td>\n",
       "      <td>108</td>\n",
       "      <td>608</td>\n",
       "      <td>163</td>\n",
       "      <td>642</td>\n",
       "      <td>677</td>\n",
       "      <td>85</td>\n",
       "    </tr>\n",
       "    <tr>\n",
       "      <th>1</th>\n",
       "      <td>404</td>\n",
       "      <td>87</td>\n",
       "      <td>127</td>\n",
       "      <td>31</td>\n",
       "      <td>71</td>\n",
       "      <td>289</td>\n",
       "      <td>509</td>\n",
       "      <td>404</td>\n",
       "      <td>201</td>\n",
       "      <td>77</td>\n",
       "      <td>506</td>\n",
       "      <td>125</td>\n",
       "      <td>498</td>\n",
       "      <td>495</td>\n",
       "      <td>67</td>\n",
       "    </tr>\n",
       "    <tr>\n",
       "      <th>2</th>\n",
       "      <td>563</td>\n",
       "      <td>116</td>\n",
       "      <td>217</td>\n",
       "      <td>36</td>\n",
       "      <td>130</td>\n",
       "      <td>533</td>\n",
       "      <td>764</td>\n",
       "      <td>670</td>\n",
       "      <td>329</td>\n",
       "      <td>151</td>\n",
       "      <td>746</td>\n",
       "      <td>194</td>\n",
       "      <td>847</td>\n",
       "      <td>913</td>\n",
       "      <td>81</td>\n",
       "    </tr>\n",
       "    <tr>\n",
       "      <th>3</th>\n",
       "      <td>589</td>\n",
       "      <td>111</td>\n",
       "      <td>206</td>\n",
       "      <td>35</td>\n",
       "      <td>140</td>\n",
       "      <td>582</td>\n",
       "      <td>788</td>\n",
       "      <td>666</td>\n",
       "      <td>325</td>\n",
       "      <td>144</td>\n",
       "      <td>789</td>\n",
       "      <td>220</td>\n",
       "      <td>867</td>\n",
       "      <td>1006</td>\n",
       "      <td>69</td>\n",
       "    </tr>\n",
       "    <tr>\n",
       "      <th>4</th>\n",
       "      <td>655</td>\n",
       "      <td>114</td>\n",
       "      <td>216</td>\n",
       "      <td>51</td>\n",
       "      <td>148</td>\n",
       "      <td>571</td>\n",
       "      <td>838</td>\n",
       "      <td>762</td>\n",
       "      <td>347</td>\n",
       "      <td>157</td>\n",
       "      <td>844</td>\n",
       "      <td>235</td>\n",
       "      <td>929</td>\n",
       "      <td>1103</td>\n",
       "      <td>94</td>\n",
       "    </tr>\n",
       "    <tr>\n",
       "      <th>5</th>\n",
       "      <td>620</td>\n",
       "      <td>110</td>\n",
       "      <td>190</td>\n",
       "      <td>44</td>\n",
       "      <td>128</td>\n",
       "      <td>554</td>\n",
       "      <td>894</td>\n",
       "      <td>712</td>\n",
       "      <td>345</td>\n",
       "      <td>142</td>\n",
       "      <td>830</td>\n",
       "      <td>212</td>\n",
       "      <td>913</td>\n",
       "      <td>970</td>\n",
       "      <td>112</td>\n",
       "    </tr>\n",
       "    <tr>\n",
       "      <th>6</th>\n",
       "      <td>589</td>\n",
       "      <td>114</td>\n",
       "      <td>197</td>\n",
       "      <td>27</td>\n",
       "      <td>133</td>\n",
       "      <td>499</td>\n",
       "      <td>818</td>\n",
       "      <td>689</td>\n",
       "      <td>313</td>\n",
       "      <td>151</td>\n",
       "      <td>840</td>\n",
       "      <td>238</td>\n",
       "      <td>875</td>\n",
       "      <td>903</td>\n",
       "      <td>101</td>\n",
       "    </tr>\n",
       "    <tr>\n",
       "      <th rowspan=\"7\" valign=\"top\">successful</th>\n",
       "      <th>0</th>\n",
       "      <td>376</td>\n",
       "      <td>134</td>\n",
       "      <td>43</td>\n",
       "      <td>44</td>\n",
       "      <td>385</td>\n",
       "      <td>138</td>\n",
       "      <td>807</td>\n",
       "      <td>208</td>\n",
       "      <td>585</td>\n",
       "      <td>21</td>\n",
       "      <td>936</td>\n",
       "      <td>78</td>\n",
       "      <td>522</td>\n",
       "      <td>254</td>\n",
       "      <td>100</td>\n",
       "    </tr>\n",
       "    <tr>\n",
       "      <th>1</th>\n",
       "      <td>335</td>\n",
       "      <td>126</td>\n",
       "      <td>45</td>\n",
       "      <td>52</td>\n",
       "      <td>275</td>\n",
       "      <td>105</td>\n",
       "      <td>641</td>\n",
       "      <td>141</td>\n",
       "      <td>437</td>\n",
       "      <td>23</td>\n",
       "      <td>714</td>\n",
       "      <td>70</td>\n",
       "      <td>422</td>\n",
       "      <td>201</td>\n",
       "      <td>73</td>\n",
       "    </tr>\n",
       "    <tr>\n",
       "      <th>2</th>\n",
       "      <td>426</td>\n",
       "      <td>186</td>\n",
       "      <td>60</td>\n",
       "      <td>48</td>\n",
       "      <td>393</td>\n",
       "      <td>185</td>\n",
       "      <td>963</td>\n",
       "      <td>193</td>\n",
       "      <td>649</td>\n",
       "      <td>46</td>\n",
       "      <td>923</td>\n",
       "      <td>81</td>\n",
       "      <td>633</td>\n",
       "      <td>325</td>\n",
       "      <td>129</td>\n",
       "    </tr>\n",
       "    <tr>\n",
       "      <th>3</th>\n",
       "      <td>431</td>\n",
       "      <td>147</td>\n",
       "      <td>70</td>\n",
       "      <td>46</td>\n",
       "      <td>514</td>\n",
       "      <td>212</td>\n",
       "      <td>1020</td>\n",
       "      <td>238</td>\n",
       "      <td>666</td>\n",
       "      <td>34</td>\n",
       "      <td>1038</td>\n",
       "      <td>79</td>\n",
       "      <td>725</td>\n",
       "      <td>391</td>\n",
       "      <td>135</td>\n",
       "    </tr>\n",
       "    <tr>\n",
       "      <th>4</th>\n",
       "      <td>507</td>\n",
       "      <td>169</td>\n",
       "      <td>66</td>\n",
       "      <td>52</td>\n",
       "      <td>521</td>\n",
       "      <td>190</td>\n",
       "      <td>1031</td>\n",
       "      <td>225</td>\n",
       "      <td>636</td>\n",
       "      <td>40</td>\n",
       "      <td>1067</td>\n",
       "      <td>88</td>\n",
       "      <td>718</td>\n",
       "      <td>368</td>\n",
       "      <td>128</td>\n",
       "    </tr>\n",
       "    <tr>\n",
       "      <th>5</th>\n",
       "      <td>489</td>\n",
       "      <td>186</td>\n",
       "      <td>64</td>\n",
       "      <td>65</td>\n",
       "      <td>420</td>\n",
       "      <td>173</td>\n",
       "      <td>1070</td>\n",
       "      <td>221</td>\n",
       "      <td>562</td>\n",
       "      <td>42</td>\n",
       "      <td>1086</td>\n",
       "      <td>67</td>\n",
       "      <td>713</td>\n",
       "      <td>281</td>\n",
       "      <td>117</td>\n",
       "    </tr>\n",
       "    <tr>\n",
       "      <th>6</th>\n",
       "      <td>424</td>\n",
       "      <td>130</td>\n",
       "      <td>51</td>\n",
       "      <td>45</td>\n",
       "      <td>346</td>\n",
       "      <td>143</td>\n",
       "      <td>787</td>\n",
       "      <td>201</td>\n",
       "      <td>550</td>\n",
       "      <td>29</td>\n",
       "      <td>1024</td>\n",
       "      <td>70</td>\n",
       "      <td>567</td>\n",
       "      <td>253</td>\n",
       "      <td>102</td>\n",
       "    </tr>\n",
       "  </tbody>\n",
       "</table>\n",
       "</div>"
      ],
      "text/plain": [
       "highlvl_cat              art  comics  crafts  dance  design  fashion  \\\n",
       "status     deadline_dow                                                \n",
       "failed     0             495      93     115     29      93      402   \n",
       "           1             404      87     127     31      71      289   \n",
       "           2             563     116     217     36     130      533   \n",
       "           3             589     111     206     35     140      582   \n",
       "           4             655     114     216     51     148      571   \n",
       "           5             620     110     190     44     128      554   \n",
       "           6             589     114     197     27     133      499   \n",
       "successful 0             376     134      43     44     385      138   \n",
       "           1             335     126      45     52     275      105   \n",
       "           2             426     186      60     48     393      185   \n",
       "           3             431     147      70     46     514      212   \n",
       "           4             507     169      66     52     521      190   \n",
       "           5             489     186      64     65     420      173   \n",
       "           6             424     130      51     45     346      143   \n",
       "\n",
       "highlvl_cat              film & video  food  games  journalism  music  \\\n",
       "status     deadline_dow                                                 \n",
       "failed     0                      664   484    250         108    608   \n",
       "           1                      509   404    201          77    506   \n",
       "           2                      764   670    329         151    746   \n",
       "           3                      788   666    325         144    789   \n",
       "           4                      838   762    347         157    844   \n",
       "           5                      894   712    345         142    830   \n",
       "           6                      818   689    313         151    840   \n",
       "successful 0                      807   208    585          21    936   \n",
       "           1                      641   141    437          23    714   \n",
       "           2                      963   193    649          46    923   \n",
       "           3                     1020   238    666          34   1038   \n",
       "           4                     1031   225    636          40   1067   \n",
       "           5                     1070   221    562          42   1086   \n",
       "           6                      787   201    550          29   1024   \n",
       "\n",
       "highlvl_cat              photography  publishing  technology  theater  \n",
       "status     deadline_dow                                                \n",
       "failed     0                     163         642         677       85  \n",
       "           1                     125         498         495       67  \n",
       "           2                     194         847         913       81  \n",
       "           3                     220         867        1006       69  \n",
       "           4                     235         929        1103       94  \n",
       "           5                     212         913         970      112  \n",
       "           6                     238         875         903      101  \n",
       "successful 0                      78         522         254      100  \n",
       "           1                      70         422         201       73  \n",
       "           2                      81         633         325      129  \n",
       "           3                      79         725         391      135  \n",
       "           4                      88         718         368      128  \n",
       "           5                      67         713         281      117  \n",
       "           6                      70         567         253      102  "
      ]
     },
     "execution_count": 149,
     "metadata": {},
     "output_type": "execute_result"
    }
   ],
   "source": [
    "a = df.groupby(['highlvl_cat','status', 'deadline_dow']).size()\n",
    "b = a.unstack(level=0)\n",
    "b"
   ]
  },
  {
   "cell_type": "code",
   "execution_count": 330,
   "metadata": {
    "collapsed": false
   },
   "outputs": [
    {
     "data": {
      "text/plain": [
       "_id                                 {u'$oid': u'582a60d7edad9a1337c65179'}\n",
       "created_at                                                      2014-11-23\n",
       "data                     {u'disable_communication': False, u'creator': ...\n",
       "id                                                                34165825\n",
       "run_id                                Kickstarter_2016-01-28T09_15_08_781Z\n",
       "status                                                              failed\n",
       "project_id                                                       718427305\n",
       "creator_id                                                       973582878\n",
       "creator_name                                                  Krystal Cook\n",
       "goal                                                                  8000\n",
       "name                         Pottery and art studio takeover and expansion\n",
       "slug                         pottery-and-art-studio-takeover-and-expansion\n",
       "blurb                    As new owners of a pottery and art studio, we ...\n",
       "pledged                                                               1065\n",
       "cat_name                                                          Ceramics\n",
       "cat_slug                                                      art/ceramics\n",
       "currency                                                               USD\n",
       "loc_type                                                              Town\n",
       "short_name                                                Douglasville, GA\n",
       "state                                                                   GA\n",
       "country                                                                 US\n",
       "spotlight                                                            False\n",
       "staff_pick                                                           False\n",
       "launched_at                                                     2014-12-23\n",
       "deadline                                                        2015-02-01\n",
       "usd_pledged                                                         1065.0\n",
       "backers_count                                                           23\n",
       "currency_symbol                                                          $\n",
       "static_usd_rate                                                        1.0\n",
       "state_changed_at                                                2015-02-01\n",
       "disable_communication                                                False\n",
       "days_to_launch                                                          30\n",
       "proj_live_days                                                          40\n",
       "subscription_rate                                                   0.1331\n",
       "over_under_sub                                                       False\n",
       "launched_dow                                                             1\n",
       "deadline_dow                                                             6\n",
       "cat_art                                                                  1\n",
       "cat_comics                                                               0\n",
       "cat_crafts                                                               0\n",
       "cat_dance                                                                0\n",
       "cat_design                                                               0\n",
       "cat_fashion                                                              0\n",
       "cat_film & video                                                         0\n",
       "cat_food                                                                 0\n",
       "cat_games                                                                0\n",
       "cat_journalism                                                           0\n",
       "cat_music                                                                0\n",
       "cat_photography                                                          0\n",
       "cat_publishing                                                           0\n",
       "cat_technology                                                           0\n",
       "cat_theater                                                              0\n",
       "week_num                                                               103\n",
       "Name: 1000, dtype: object"
      ]
     },
     "execution_count": 330,
     "metadata": {},
     "output_type": "execute_result"
    }
   ],
   "source": [
    "df.loc[1000]"
   ]
  },
  {
   "cell_type": "code",
   "execution_count": null,
   "metadata": {
    "collapsed": true
   },
   "outputs": [],
   "source": []
  }
 ],
 "metadata": {
  "anaconda-cloud": {},
  "kernelspec": {
   "display_name": "Python [Root]",
   "language": "python",
   "name": "Python [Root]"
  },
  "language_info": {
   "codemirror_mode": {
    "name": "ipython",
    "version": 2
   },
   "file_extension": ".py",
   "mimetype": "text/x-python",
   "name": "python",
   "nbconvert_exporter": "python",
   "pygments_lexer": "ipython2",
   "version": "2.7.12"
  }
 },
 "nbformat": 4,
 "nbformat_minor": 0
}
